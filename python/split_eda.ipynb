{
 "cells": [
  {
   "cell_type": "markdown",
   "metadata": {},
   "source": [
    "# Train-Valid-Test Split EDA / Sanity Check"
   ]
  },
  {
   "cell_type": "code",
   "execution_count": 1,
   "metadata": {},
   "outputs": [],
   "source": [
    "# Import libraries\n",
    "import numpy as np\n",
    "import pandas as pd"
   ]
  },
  {
   "cell_type": "code",
   "execution_count": 2,
   "metadata": {},
   "outputs": [],
   "source": [
    "# Load pickled data\n",
    "train_df = pd.read_pickle(\"data/train.pkl\")\n",
    "valid_df = pd.read_pickle(\"data/val.pkl\")\n",
    "test_df = pd.read_pickle(\"data/test.pkl\")"
   ]
  },
  {
   "cell_type": "markdown",
   "metadata": {},
   "source": [
    "# Assert no users in multiple sets"
   ]
  },
  {
   "cell_type": "code",
   "execution_count": 3,
   "metadata": {},
   "outputs": [],
   "source": [
    "# Unique users in each set \n",
    "train_users = set(train_df['user_id'])\n",
    "valid_users = set(valid_df['user_id'])\n",
    "test_users = set(test_df['user_id'])"
   ]
  },
  {
   "cell_type": "code",
   "execution_count": 4,
   "metadata": {},
   "outputs": [],
   "source": [
    "# Assert no overlap\n",
    "null_set = set()\n",
    "assert(train_users.intersection(valid_users) == null_set)\n",
    "assert(train_users.intersection(test_users) == null_set)\n",
    "assert(valid_users.intersection(test_users) == null_set)"
   ]
  },
  {
   "cell_type": "markdown",
   "metadata": {},
   "source": [
    "# Assert no businesses in multiple sets"
   ]
  },
  {
   "cell_type": "code",
   "execution_count": 5,
   "metadata": {},
   "outputs": [],
   "source": [
    "# Unique businesses in each set\n",
    "train_bis = set(train_df['business_id'])\n",
    "valid_bis = set(valid_df['business_id'])\n",
    "test_bis = set(test_df['business_id'])"
   ]
  },
  {
   "cell_type": "code",
   "execution_count": 6,
   "metadata": {},
   "outputs": [],
   "source": [
    "# Assert no overlap\n",
    "null_set = set()\n",
    "assert(train_bis.intersection(valid_bis) == null_set)\n",
    "assert(train_bis.intersection(test_bis) == null_set)\n",
    "assert(valid_bis.intersection(test_bis) == null_set)"
   ]
  },
  {
   "cell_type": "markdown",
   "metadata": {},
   "source": [
    "# Assert no reviews in multiple sets"
   ]
  },
  {
   "cell_type": "code",
   "execution_count": 7,
   "metadata": {},
   "outputs": [],
   "source": [
    "# Unique reviews in each set\n",
    "train_rev = set(train_df['review_id_r'])\n",
    "valid_rev = set(valid_df['review_id_r'])\n",
    "test_rev = set(test_df['review_id_r'])"
   ]
  },
  {
   "cell_type": "code",
   "execution_count": 8,
   "metadata": {},
   "outputs": [],
   "source": [
    "# Assert no overlap\n",
    "null_set = set()\n",
    "assert(train_rev.intersection(valid_rev) == null_set)\n",
    "assert(train_rev.intersection(test_rev) == null_set)\n",
    "assert(valid_rev.intersection(test_rev) == null_set)"
   ]
  },
  {
   "cell_type": "markdown",
   "metadata": {},
   "source": [
    "# Summary Statistics"
   ]
  },
  {
   "cell_type": "markdown",
   "metadata": {},
   "source": [
    "## Number of Users"
   ]
  },
  {
   "cell_type": "code",
   "execution_count": 9,
   "metadata": {},
   "outputs": [
    {
     "name": "stdout",
     "output_type": "stream",
     "text": [
      "Users in train set: 284793\n",
      "Users in valid set: 153642\n",
      "Users in test set:  269028\n"
     ]
    }
   ],
   "source": [
    "print(\"Users in train set: {}\".format(len(train_users)))\n",
    "print(\"Users in valid set: {}\".format(len(valid_users)))\n",
    "print(\"Users in test set:  {}\".format(len(test_users)))"
   ]
  },
  {
   "cell_type": "markdown",
   "metadata": {},
   "source": [
    "## Number of Businesses"
   ]
  },
  {
   "cell_type": "code",
   "execution_count": 10,
   "metadata": {},
   "outputs": [
    {
     "name": "stdout",
     "output_type": "stream",
     "text": [
      "Businesses in train set: 39484\n",
      "Businesses in valid set: 34858\n",
      "Businesses in test set:  75904\n"
     ]
    }
   ],
   "source": [
    "print(\"Businesses in train set: {}\".format(len(train_bis)))\n",
    "print(\"Businesses in valid set: {}\".format(len(valid_bis)))\n",
    "print(\"Businesses in test set:  {}\".format(len(test_bis)))"
   ]
  },
  {
   "cell_type": "markdown",
   "metadata": {},
   "source": [
    "## Number of Reviews"
   ]
  },
  {
   "cell_type": "code",
   "execution_count": 11,
   "metadata": {},
   "outputs": [
    {
     "name": "stdout",
     "output_type": "stream",
     "text": [
      "Reviews in train set: 2476843\n",
      "Reviews in valid set: 296241\n",
      "Reviews in test set:  328428\n"
     ]
    }
   ],
   "source": [
    "print(\"Reviews in train set: {}\".format(train_df.shape[0]))\n",
    "print(\"Reviews in valid set: {}\".format(valid_df.shape[0]))\n",
    "print(\"Reviews in test set:  {}\".format(test_df.shape[0]))"
   ]
  },
  {
   "cell_type": "markdown",
   "metadata": {},
   "source": [
    "## Percentage of 5 Star Reviews"
   ]
  },
  {
   "cell_type": "code",
   "execution_count": 12,
   "metadata": {},
   "outputs": [],
   "source": [
    "train_p = train_df[train_df['stars_r']==5].shape[0] / train_df.shape[0]\n",
    "valid_p = valid_df[valid_df['stars_r']==5].shape[0] / valid_df.shape[0]\n",
    "test_p = test_df[test_df['stars_r']==5].shape[0] / test_df.shape[0]"
   ]
  },
  {
   "cell_type": "code",
   "execution_count": 16,
   "metadata": {},
   "outputs": [
    {
     "name": "stdout",
     "output_type": "stream",
     "text": [
      "Percentage of 5 star reviews in train set: 0.383\n",
      "Percentage of 5 star reviews in valid set: 0.501\n",
      "Percentage of 5 star reviews in test set:  0.541\n"
     ]
    }
   ],
   "source": [
    "print(\"Percentage of 5 star reviews in train set: {:.3f}\".format(train_p))\n",
    "print(\"Percentage of 5 star reviews in valid set: {:.3f}\".format(valid_p))\n",
    "print(\"Percentage of 5 star reviews in test set:  {:.3f}\".format(test_p))"
   ]
  }
 ],
 "metadata": {
  "kernelspec": {
   "display_name": "Python 3",
   "language": "python",
   "name": "python3"
  },
  "language_info": {
   "codemirror_mode": {
    "name": "ipython",
    "version": 3
   },
   "file_extension": ".py",
   "mimetype": "text/x-python",
   "name": "python",
   "nbconvert_exporter": "python",
   "pygments_lexer": "ipython3",
   "version": "3.7.4"
  }
 },
 "nbformat": 4,
 "nbformat_minor": 2
}
