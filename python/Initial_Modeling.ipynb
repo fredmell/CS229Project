{
 "cells": [
  {
   "cell_type": "markdown",
   "metadata": {},
   "source": [
    "# Preliminary Modeling\n",
    "\n",
    "Point person: Pranav"
   ]
  },
  {
   "cell_type": "markdown",
   "metadata": {},
   "source": [
    "## Load libaries and data"
   ]
  },
  {
   "cell_type": "code",
   "execution_count": 1,
   "metadata": {},
   "outputs": [],
   "source": [
    "# See binary_classification.py\n",
    "from binary_classification import *"
   ]
  },
  {
   "cell_type": "code",
   "execution_count": 2,
   "metadata": {},
   "outputs": [],
   "source": [
    "# Import libraries\n",
    "import numpy as np\n",
    "import pandas as pd"
   ]
  },
  {
   "cell_type": "code",
   "execution_count": 3,
   "metadata": {},
   "outputs": [],
   "source": [
    "# Load pickled data\n",
    "train_df = pd.read_pickle(\"data/train.pkl\")\n",
    "valid_df = pd.read_pickle(\"data/val.pkl\")\n",
    "test_df = pd.read_pickle(\"data/test.pkl\")"
   ]
  },
  {
   "cell_type": "markdown",
   "metadata": {},
   "source": [
    "## Examine columns"
   ]
  },
  {
   "cell_type": "code",
   "execution_count": 4,
   "metadata": {},
   "outputs": [
    {
     "name": "stdout",
     "output_type": "stream",
     "text": [
      "business_id, <class 'str'>\n",
      "cool_r, <class 'numpy.int64'>\n",
      "date_r, <class 'str'>\n",
      "funny_r, <class 'numpy.int64'>\n",
      "review_id_r, <class 'str'>\n",
      "stars_r, <class 'numpy.int64'>\n",
      "useful_r, <class 'numpy.int64'>\n",
      "user_id, <class 'str'>\n",
      "address_b, <class 'str'>\n",
      "attributes_b, <class 'dict'>\n",
      "categories_b, <class 'str'>\n",
      "city_b, <class 'str'>\n",
      "hours_b, <class 'dict'>\n",
      "is_open_b, <class 'numpy.int64'>\n",
      "latitude_b, <class 'numpy.float64'>\n",
      "longitude_b, <class 'numpy.float64'>\n",
      "name_b, <class 'str'>\n",
      "postal_code_b, <class 'str'>\n",
      "review_count_b, <class 'numpy.int64'>\n",
      "stars_b, <class 'numpy.float64'>\n",
      "state_b, <class 'str'>\n",
      "average_stars_u, <class 'numpy.float64'>\n",
      "compliment_cool_u, <class 'numpy.int64'>\n",
      "compliment_cute_u, <class 'numpy.int64'>\n",
      "compliment_funny_u, <class 'numpy.int64'>\n",
      "compliment_hot_u, <class 'numpy.int64'>\n",
      "compliment_list_u, <class 'numpy.int64'>\n",
      "compliment_more_u, <class 'numpy.int64'>\n",
      "compliment_note_u, <class 'numpy.int64'>\n",
      "compliment_photos_u, <class 'numpy.int64'>\n",
      "compliment_plain_u, <class 'numpy.int64'>\n",
      "compliment_profile_u, <class 'numpy.int64'>\n",
      "compliment_writer_u, <class 'numpy.int64'>\n",
      "cool_u, <class 'numpy.int64'>\n",
      "elite_u, <class 'str'>\n",
      "fans_u, <class 'numpy.int64'>\n",
      "friends_u, <class 'str'>\n",
      "funny_u, <class 'numpy.int64'>\n",
      "name_u, <class 'str'>\n",
      "review_count_u, <class 'numpy.int64'>\n",
      "useful_u, <class 'numpy.int64'>\n",
      "yelping_since_u, <class 'str'>\n"
     ]
    }
   ],
   "source": [
    "# Examine columns\n",
    "columns = list(train_df.columns)\n",
    "for col in columns:\n",
    "    print(\"{}, {}\".format(col, type(train_df[col][0])))"
   ]
  },
  {
   "cell_type": "markdown",
   "metadata": {},
   "source": [
    "## Notes on columns\n",
    "All examples from train_df.iloc[0] first row of training data\n",
    "\n",
    "\n",
    "### Exclude for now due to lack of preprocessing:\n",
    "\n",
    "attributes_b: This is a dictionary containing attributes of a business. \n",
    "              Ex: {'ByAppointmentOnly': 'False',\n",
    "                 'GoodForKids': 'False',\n",
    "                 'BusinessAcceptsCreditCards': 'True',\n",
    "                 'AcceptsInsurance': 'True'}\n",
    "\n",
    "categories_b: This is a string containing comma separated categories that\n",
    "              business falls in. \n",
    "              Ex: 'Fitness & Instruction, Doctors, Health & Medical, \n",
    "                   Active Life, Gyms, Emergency Rooms, Medical Centers, \n",
    "                   Hospitals'\n",
    "                   \n",
    "hours_b: This is a dictionary containing hours of operation of a business. May not be interesting anyway. \n",
    "       Ex: {'Monday': '0:0-0:0',\n",
    "         'Tuesday': '0:0-0:0',\n",
    "         'Wednesday': '0:0-0:0',\n",
    "         'Thursday': '0:0-0:0',\n",
    "         'Friday': '0:0-0:0',\n",
    "         'Saturday': '0:0-0:0',\n",
    "         'Sunday': '0:0-0:0'}\n",
    "         \n",
    "yelping_since_u: This is the date they began yelping. Currently a string - should be a timeseries type. \n",
    "                 Ex: '2008-07-10 17:24:47'\n",
    "                 \n",
    "friends_u: Comma separated string of friend user id's\n",
    "         \n",
    "         \n",
    "### Weird parameters\n",
    "                   \n",
    "is_open_b: Seems to be a boolean on if the business is currently in operation\n",
    "\n",
    "\n",
    "### Exclude because of statistical concerns\n",
    "\n",
    "cool_r, date_r, funny_r, review_id_r, stars_r, useful_r: No review information should be used to predict the review's star rating\n",
    "\n",
    "\n",
    "business_id, name_b, name_u, user_id: Names should be disregarded\n",
    "\n",
    "### Exclude because they are strings\n",
    "sklearn will want one-hot encoded columns for categorical variables\n",
    "\n",
    "city_b, postal_code_b, state_b, elite_u"
   ]
  },
  {
   "cell_type": "code",
   "execution_count": 5,
   "metadata": {},
   "outputs": [],
   "source": [
    "predictors = ['latitude_b', 'longitude_b', 'review_count_b', \n",
    "             'stars_b', 'average_stars_u',\n",
    "             'compliment_cool_u', 'compliment_cute_u',\n",
    "             'compliment_funny_u', 'compliment_hot_u',\n",
    "             'compliment_list_u', 'compliment_more_u',\n",
    "             'compliment_note_u', 'compliment_photos_u',\n",
    "             'compliment_plain_u', 'compliment_profile_u',\n",
    "             'compliment_writer_u', 'cool_u',\n",
    "             'fans_u', 'funny_u', 'review_count_u',\n",
    "              'useful_u']"
   ]
  },
  {
   "cell_type": "markdown",
   "metadata": {},
   "source": [
    "## Binarize outcome"
   ]
  },
  {
   "cell_type": "code",
   "execution_count": 6,
   "metadata": {},
   "outputs": [],
   "source": [
    "# 1 if 5 star rating, 0 else\n",
    "train_df['outcome'] = np.where(train_df['stars_r']==5, 1, 0)\n",
    "valid_df['outcome'] = np.where(valid_df['stars_r']==5, 1, 0)\n",
    "test_df['outcome'] = np.where(test_df['stars_r']==5, 1, 0)"
   ]
  },
  {
   "cell_type": "code",
   "execution_count": 7,
   "metadata": {},
   "outputs": [],
   "source": [
    "outcome = 'outcome'"
   ]
  },
  {
   "cell_type": "markdown",
   "metadata": {},
   "source": [
    "# Logistic Regression"
   ]
  },
  {
   "cell_type": "code",
   "execution_count": 8,
   "metadata": {},
   "outputs": [],
   "source": [
    "logistic_regression = logreg(train_data = train_df,\n",
    "                       valid_data = valid_df,\n",
    "                       test_data = test_df,\n",
    "                       predictors = predictors,\n",
    "                       outcome = outcome)"
   ]
  },
  {
   "cell_type": "code",
   "execution_count": 9,
   "metadata": {},
   "outputs": [
    {
     "name": "stdout",
     "output_type": "stream",
     "text": [
      "Time to train: 111.73\n"
     ]
    },
    {
     "name": "stderr",
     "output_type": "stream",
     "text": [
      "/usr/local/lib/python3.7/site-packages/sklearn/svm/base.py:931: ConvergenceWarning: Liblinear failed to converge, increase the number of iterations.\n",
      "  \"the number of iterations.\", ConvergenceWarning)\n"
     ]
    }
   ],
   "source": [
    "logistic_regression.train()"
   ]
  },
  {
   "cell_type": "code",
   "execution_count": 10,
   "metadata": {},
   "outputs": [
    {
     "name": "stdout",
     "output_type": "stream",
     "text": [
      "Accuracy:             45.89%\n",
      "F1:                   0.00%\n",
      "Precision (PPV):      50.00%\n",
      "Recall (Sensitivity): 0.00%\n",
      "\n",
      "\n"
     ]
    },
    {
     "data": {
      "image/png": "[encoded data removed]",
      "text/plain": [
       "<Figure size 720x720 with 2 Axes>"
      ]
     },
     "metadata": {
      "needs_background": "light"
     },
     "output_type": "display_data"
    }
   ],
   "source": [
    "logistic_regression.test()"
   ]
  }
 ],
 "metadata": {
  "kernelspec": {
   "display_name": "Python 3",
   "language": "python",
   "name": "python3"
  },
  "language_info": {
   "codemirror_mode": {
    "name": "ipython",
    "version": 3
   },
   "file_extension": ".py",
   "mimetype": "text/x-python",
   "name": "python",
   "nbconvert_exporter": "python",
   "pygments_lexer": "ipython3",
   "version": "3.7.4"
  }
 },
 "nbformat": 4,
 "nbformat_minor": 2
}
