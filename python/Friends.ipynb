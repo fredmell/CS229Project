{
 "cells": [
  {
   "cell_type": "code",
   "execution_count": 5,
   "metadata": {},
   "outputs": [],
   "source": [
    "import data_utils\n",
    "import pandas as pd"
   ]
  },
  {
   "cell_type": "code",
   "execution_count": 10,
   "metadata": {},
   "outputs": [],
   "source": [
    "friends = pd.read_csv('../data/business.tsv', sep='\\t')"
   ]
  },
  {
   "cell_type": "code",
   "execution_count": 8,
   "metadata": {},
   "outputs": [
    {
     "name": "stdout",
     "output_type": "stream",
     "text": [
      "                               user_id\\tfriend_id\n",
      "0  5hwi39c_orbmV5324aT2kw\\tdHQ1CxU66FgBStR7XV-gRg\n",
      "1  5hwi39c_orbmV5324aT2kw\\t_zVPYYVW4XbB9W9G0iP3lQ\n",
      "2  5hwi39c_orbmV5324aT2kw\\tx0J-AgXFM00qqBDzSJu4cA\n",
      "3  5hwi39c_orbmV5324aT2kw\\thP69ZKb_JsykAmbUYWJ2fQ\n",
      "4  5hwi39c_orbmV5324aT2kw\\t_LgbNcXGGMC5mUjTDOO-TA\n"
     ]
    }
   ],
   "source": [
    "print(friends.head())"
   ]
  },
  {
   "cell_type": "code",
   "execution_count": null,
   "metadata": {},
   "outputs": [],
   "source": [
    "review = pd.read_csv('../data/review.tsv', sep='\\t')[['user_id', 'business_id', 'like']]"
   ]
  },
  {
   "cell_type": "code",
   "execution_count": 12,
   "metadata": {},
   "outputs": [],
   "source": [
    "d = {\"business_id\":\"QXAEGFB4oINsVuTFxEYKFQ\",\"name\":\"Emerald Chinese Restaurant\",\"address\":\"30 Eglinton Avenue W\",\"city\":\"Mississauga\",\"state\":\"ON\",\"postal_code\":\"L5R 3E7\",\"latitude\":43.6054989743,\"longitude\":-79.652288909,\"stars\":2.5,\"review_count\":128,\"is_open\":1,\"attributes\":{\"RestaurantsReservations\":\"True\",\"GoodForMeal\":\"{'dessert': False, 'latenight': False, 'lunch': True, 'dinner': True, 'brunch': False, 'breakfast': False}\",\"BusinessParking\":\"{'garage': False, 'street': False, 'validated': False, 'lot': True, 'valet': False}\",\"Caters\":\"True\",\"NoiseLevel\":\"u'loud'\",\"RestaurantsTableService\":\"True\",\"RestaurantsTakeOut\":\"True\",\"RestaurantsPriceRange2\":\"2\",\"OutdoorSeating\":\"False\",\"BikeParking\":\"False\",\"Ambience\":\"{'romantic': False, 'intimate': False, 'classy': False, 'hipster': False, 'divey': False, 'touristy': False, 'trendy': False, 'upscale': False, 'casual': True}\",\"HasTV\":\"False\",\"WiFi\":\"u'no'\",\"GoodForKids\":\"True\",\"Alcohol\":\"u'full_bar'\",\"RestaurantsAttire\":\"u'casual'\",\"RestaurantsGoodForGroups\":\"True\",\"RestaurantsDelivery\":\"False\"},\"categories\":\"Specialty Food, Restaurants, Dim Sum, Imported Food, Food, Chinese, Ethnic Food, Seafood\",\"hours\":{\"Monday\":\"9:0-0:0\",\"Tuesday\":\"9:0-0:0\",\"Wednesday\":\"9:0-0:0\",\"Thursday\":\"9:0-0:0\",\"Friday\":\"9:0-1:0\",\"Saturday\":\"9:0-1:0\",\"Sunday\":\"9:0-0:0\"}}"
   ]
  },
  {
   "cell_type": "code",
   "execution_count": 14,
   "metadata": {},
   "outputs": [],
   "source": [
    "k = data_utils.unnest_dictionary(d)"
   ]
  },
  {
   "cell_type": "code",
   "execution_count": 15,
   "metadata": {},
   "outputs": [
    {
     "name": "stdout",
     "output_type": "stream",
     "text": [
      "54\n"
     ]
    }
   ],
   "source": [
    "print(len(k))"
   ]
  },
  {
   "cell_type": "code",
   "execution_count": 16,
   "metadata": {},
   "outputs": [
    {
     "name": "stdout",
     "output_type": "stream",
     "text": [
      "{'business_id': 'QXAEGFB4oINsVuTFxEYKFQ', 'name': 'Emerald Chinese Restaurant', 'address': '30 Eglinton Avenue W', 'city': 'Mississauga', 'state': 'ON', 'postal_code': 'L5R 3E7', 'latitude': '43.6054989743', 'longitude': '-79.652288909', 'stars': '2.5', 'review_count': '128', 'is_open': '1', 'categories': 'Specialty Food, Restaurants, Dim Sum, Imported Food, Food, Chinese, Ethnic Food, Seafood', 'attributes_RestaurantsReservations': 'True', 'attributes_Caters': 'True', 'attributes_NoiseLevel': 'loud', 'attributes_RestaurantsTableService': 'True', 'attributes_RestaurantsTakeOut': 'True', 'attributes_RestaurantsPriceRange2': '2', 'attributes_OutdoorSeating': 'False', 'attributes_BikeParking': 'False', 'attributes_HasTV': 'False', 'attributes_WiFi': 'no', 'attributes_GoodForKids': 'True', 'attributes_Alcohol': 'full_bar', 'attributes_RestaurantsAttire': 'casual', 'attributes_RestaurantsGoodForGroups': 'True', 'attributes_RestaurantsDelivery': 'False', 'hours_Monday': '9:0-0:0', 'hours_Tuesday': '9:0-0:0', 'hours_Wednesday': '9:0-0:0', 'hours_Thursday': '9:0-0:0', 'hours_Friday': '9:0-1:0', 'hours_Saturday': '9:0-1:0', 'hours_Sunday': '9:0-0:0', 'attributes_GoodForMeal_dessert': 'False', 'attributes_GoodForMeal_latenight': 'False', 'attributes_GoodForMeal_lunch': 'True', 'attributes_GoodForMeal_dinner': 'True', 'attributes_GoodForMeal_brunch': 'False', 'attributes_GoodForMeal_breakfast': 'False', 'attributes_BusinessParking_garage': 'False', 'attributes_BusinessParking_street': 'False', 'attributes_BusinessParking_validated': 'False', 'attributes_BusinessParking_lot': 'True', 'attributes_BusinessParking_valet': 'False', 'attributes_Ambience_romantic': 'False', 'attributes_Ambience_intimate': 'False', 'attributes_Ambience_classy': 'False', 'attributes_Ambience_hipster': 'False', 'attributes_Ambience_divey': 'False', 'attributes_Ambience_touristy': 'False', 'attributes_Ambience_trendy': 'False', 'attributes_Ambience_upscale': 'False', 'attributes_Ambience_casual': 'True'}\n"
     ]
    }
   ],
   "source": [
    "print(k)"
   ]
  },
  {
   "cell_type": "code",
   "execution_count": 17,
   "metadata": {},
   "outputs": [],
   "source": [
    "review = pd.read_csv('../data/review.tsv', sep='\\t')"
   ]
  },
  {
   "cell_type": "code",
   "execution_count": 18,
   "metadata": {},
   "outputs": [],
   "source": [
    "d2 = {\"user_id\":\"l6BmjZMeQD3rDxWUbiAiow\",\"name\":\"Rashmi\",\"review_count\":95,\"yelping_since\":\"2013-10-08 23:11:33\",\"useful\":84,\"funny\":17,\"cool\":25,\"elite\":\"2015,2016,2017\",\"friends\":\"c78V-rj8NQcQjOI8KP3UEA, alRMgPcngYSCJ5naFRBz5g, ajcnq75Z5xxkvUSmmJ1bCg, BSMAmp2-wMzCkhTfq9ToNg, jka10dk9ygX76hJG0gfPZQ, dut0e4xvme7QSlesOycHQA, l4l5lBnK356zBua7B-UJ6Q, 0HicMOOs-M_gl2eO-zES4Q, _uI57wL2fLyftrcSFpfSGQ, T4_Qd0YWbC3co6WSMw4vxg, iBRoLWPtWmsI1kdbE9ORSA, xjrUcid6Ymq0DoTJELkYyw, GqadWVzJ6At-vgLzK_SKgA, DvB13VJBmSnbFXBVBsKmDA, vRP9nQkYTeNioDjtxZlVhg, gT0A1iN3eeQ8EMAjJhwQtw, 6yCWjFPtp_AD4x93WAwmnw, 1dKzpNnib-JlViKv8_Gt5g, 3Bv4_JxHXq-gVLOxYMQX0Q, ikQyfu1iViYh8T0us7wiFQ, f1GGltNaB7K5DR1jf3dOmg, tgeFUChlh7v8bZFVl2-hjQ, -9-9oyXlqsMG2he5xIWdLQ, Adj9fBPVJad8vSs-mIP7gw, Ce49RY8CKXVsTifxRYFTsw, M1_7TLi8CbdA89nFLlH4iw, wFsNv-hqbW_F5-IRqfBN6g, 0Q1L7zXHocaUZ2gsG2XJeg, cBFgmOCBdhYa0xoFEAzp_g, VrD_AgiFvzqtlR15vir3SQ, cpE-7HK514Sr5vpSen9CEQ, F1UYelhPFB-zIKlt0ygIZg, CQAL1hvsLMCzuJf9AglsXw, 1KnY1wr15WfEWIRLB9IS6g, QWFQ-kXBiLbid-lm5Jr3dQ, nymT8liFugCrM16lTy0ZfQ, qj69bdd885heDvUPCyHd2Q, DySCZZcgbdrlHgEovk5y9w, lZMJIDuvhT9Dy4KyquLXyA, b_9Gn7wS93AoPZPR0dIJqQ, N07g1IaLh0_6sUjtiSRe4w, YdfPX_7DxSnKvvdCJ57iOw, 8GYryZPD22W7WgQ8kvMkEQ, cpQmAgOWatghp14h1pn1dQ, EnchhymLYMqftCRjqvVWmw, -JdfKhFktE7Zs9BMDFcPeQ, uWhC9eof98zPkvsalgaqJw, eyTlNDDaiPatfe6mheIZ0g, VfHq0o73aKsODvfAhwAQtg, kvD5tICngLAaQDujSFWupA, dXacwEhqi9-3_XT6JeH0Og, NfU0zDaTMEQ4-X9dbQWd9A, cTHWBdjSKbctSUIvWsgFxw, 3IEtCbSDF5t7RkZ20T6s9A, HJJXTrp6UybYyPdQ9DA0JA, JaXogQFVjzGRAeBvzamBHg, NUonfKkjS1iVqnNITtgXZg, D5vaJAYp0sOrGfsj9qvsMA, H27Ecbwwu4FGAlLgICourw, S8HrLmMiE4u8FWYWkNEoTw, Io36Y3xWQcIX9rYvPcYfXQ, J5mcqh8KxYpqjaLBNlwcig, -nTB3_08g06fD0GT8AtDBQ, wMpFA46lihK8oFns_5p65A, RZGFJHeomGJCWp3xcL3ejA, ZoQSzzXoSP1RxOD4Amv9Bg, qzM0EB0SkuuGIFv0adjQAQ, HuM6vvuveken-fPZ7d4olA, H3oukHpGpn9n_mJwSDSQyQ, PkmsJsQ8FIZe8eh8c_u96g, wSByVbwME4MzgkJaFyfvNg, YEVqknoDmrHAoUbHX0nPnA, li3vsK1XAPmeJYAUTYflHQ, MKc8yXi0glbPYt0Qb4PECw, fQPH6W9fksi27gkuUPnFaA, amrCMrDsoRetYFg2kwwdFA, 84dVQ6n6r2ezNaTuc7RkKA, yW9QjWY0olv5-uRKv3t_Kw, 5XJDj7c3eoidfQ3jW18Zgw, txSc6a6pIDctvwyBeu7Aqg, HFbbDCyyqP9xPkUlcxeIdg, hTUv5oh2do6Z3OppPuuiJA, gSqonG9J4fNM-fl_fE71AA, pd9mgTFpBTg5F9x-MsczNg, j3VE22V2GcHiH8UZxfFLfw, NYXlMW-T-3V4Jqr4r-i0Wg, btxgAZedxX8IWhMifA7Xkg, -Hp5mPLiRJNFnyeX5Ygzag, P6-DwVg6-t2JuQwIUEk0iQ, OI2TvxYvZrAodBG_RF53Xw, bHxf_VPKmZur1Bier-6A2A, Et_Sb39cVm81_Xe9HDM8ZQ, 5HwGl2UyYbaRq8aD6YC-fA, ZK228WMcCKLo5thcjD7rdw, iTf8wojwfm0NOi7dOiz3Nw, btYRxQYNJjpecflNHtFH0A, Kgo42FzpW_dXFgDKoewbtg, MNk_1Q_dqOY3xxHZKeO8VQ, AlwD504T9k0m5lkg3k5g6Q\",\"fans\":5,\"average_stars\":4.03,\"compliment_hot\":2,\"compliment_more\":0,\"compliment_profile\":0,\"compliment_cute\":0,\"compliment_list\":0,\"compliment_note\":1,\"compliment_plain\":1,\"compliment_cool\":1,\"compliment_funny\":1,\"compliment_writer\":2,\"compliment_photos\":0}"
   ]
  },
  {
   "cell_type": "code",
   "execution_count": 19,
   "metadata": {},
   "outputs": [],
   "source": [
    "k2 = data_utils.unnest_dictionary(d2)"
   ]
  },
  {
   "cell_type": "code",
   "execution_count": 21,
   "metadata": {},
   "outputs": [
    {
     "name": "stdout",
     "output_type": "stream",
     "text": [
      "22\n"
     ]
    }
   ],
   "source": [
    "print(len(k2))\n"
   ]
  },
  {
   "cell_type": "code",
   "execution_count": 22,
   "metadata": {},
   "outputs": [],
   "source": [
    "predictors = ['latitude_b', 'longitude_b', 'review_count_b', \n",
    "             'stars_b', 'average_stars_u',\n",
    "             'compliment_cool_u', 'compliment_cute_u',\n",
    "             'compliment_funny_u', 'compliment_hot_u',\n",
    "             'compliment_list_u', 'compliment_more_u',\n",
    "             'compliment_note_u', 'compliment_photos_u',\n",
    "             'compliment_plain_u', 'compliment_profile_u',\n",
    "             'compliment_writer_u', 'cool_u',\n",
    "             'fans_u', 'funny_u', 'review_count_u',\n",
    "              'useful_u']"
   ]
  },
  {
   "cell_type": "code",
   "execution_count": 23,
   "metadata": {},
   "outputs": [
    {
     "data": {
      "text/plain": [
       "21"
      ]
     },
     "execution_count": 23,
     "metadata": {},
     "output_type": "execute_result"
    }
   ],
   "source": [
    "len(predictors)"
   ]
  },
  {
   "cell_type": "code",
   "execution_count": 24,
   "metadata": {},
   "outputs": [
    {
     "ename": "NameError",
     "evalue": "name 'train' is not defined",
     "output_type": "error",
     "traceback": [
      "\u001b[0;31m---------------------------------------------------------------------------\u001b[0m",
      "\u001b[0;31mNameError\u001b[0m                                 Traceback (most recent call last)",
      "\u001b[0;32m<ipython-input-24-17c779a5594e>\u001b[0m in \u001b[0;36m<module>\u001b[0;34m\u001b[0m\n\u001b[0;32m----> 1\u001b[0;31m \u001b[0mtrain\u001b[0m\u001b[0;34m.\u001b[0m\u001b[0mto_pickle\u001b[0m\u001b[0;34m(\u001b[0m\u001b[0;34m\"train.pkl\"\u001b[0m\u001b[0;34m)\u001b[0m\u001b[0;34m\u001b[0m\u001b[0;34m\u001b[0m\u001b[0m\n\u001b[0m\u001b[1;32m      2\u001b[0m \u001b[0mval\u001b[0m\u001b[0;34m.\u001b[0m\u001b[0mto_pickle\u001b[0m\u001b[0;34m(\u001b[0m\u001b[0;34m\"val.pkl\"\u001b[0m\u001b[0;34m)\u001b[0m\u001b[0;34m\u001b[0m\u001b[0;34m\u001b[0m\u001b[0m\n\u001b[1;32m      3\u001b[0m \u001b[0mtest\u001b[0m\u001b[0;34m.\u001b[0m\u001b[0mto_pickle\u001b[0m\u001b[0;34m(\u001b[0m\u001b[0;34m\"test.pkl\"\u001b[0m\u001b[0;34m)\u001b[0m\u001b[0;34m\u001b[0m\u001b[0;34m\u001b[0m\u001b[0m\n",
      "\u001b[0;31mNameError\u001b[0m: name 'train' is not defined"
     ]
    }
   ],
   "source": [
    "train.to_pickle(\"train.pkl\")\n",
    "val.to_pickle(\"val.pkl\")\n",
    "test.to_pickle(\"test.pkl\")"
   ]
  },
  {
   "cell_type": "code",
   "execution_count": 25,
   "metadata": {},
   "outputs": [],
   "source": [
    "df = pd.read_pickle(\"train.pkl\")\n"
   ]
  },
  {
   "cell_type": "code",
   "execution_count": 26,
   "metadata": {},
   "outputs": [
    {
     "data": {
      "text/html": [
       "<div>\n",
       "<style scoped>\n",
       "    .dataframe tbody tr th:only-of-type {\n",
       "        vertical-align: middle;\n",
       "    }\n",
       "\n",
       "    .dataframe tbody tr th {\n",
       "        vertical-align: top;\n",
       "    }\n",
       "\n",
       "    .dataframe thead th {\n",
       "        text-align: right;\n",
       "    }\n",
       "</style>\n",
       "<table border=\"1\" class=\"dataframe\">\n",
       "  <thead>\n",
       "    <tr style=\"text-align: right;\">\n",
       "      <th></th>\n",
       "      <th>business_id</th>\n",
       "      <th>cool_r</th>\n",
       "      <th>date_r</th>\n",
       "      <th>funny_r</th>\n",
       "      <th>review_id_r</th>\n",
       "      <th>stars_r</th>\n",
       "      <th>useful_r</th>\n",
       "      <th>user_id</th>\n",
       "      <th>address_b</th>\n",
       "      <th>attributes_b</th>\n",
       "      <th>...</th>\n",
       "      <th>compliment_writer_u</th>\n",
       "      <th>cool_u</th>\n",
       "      <th>elite_u</th>\n",
       "      <th>fans_u</th>\n",
       "      <th>friends_u</th>\n",
       "      <th>funny_u</th>\n",
       "      <th>name_u</th>\n",
       "      <th>review_count_u</th>\n",
       "      <th>useful_u</th>\n",
       "      <th>yelping_since_u</th>\n",
       "    </tr>\n",
       "  </thead>\n",
       "  <tbody>\n",
       "    <tr>\n",
       "      <th>0</th>\n",
       "      <td>ujmEBvifdJM6h6RLv4wQIg</td>\n",
       "      <td>0</td>\n",
       "      <td>2013-05-07 04:34:36</td>\n",
       "      <td>1</td>\n",
       "      <td>Q1sbwvVQXV2734tPgoKj4Q</td>\n",
       "      <td>1</td>\n",
       "      <td>6</td>\n",
       "      <td>hG7b0MtEbXx5QzbzE6C_VA</td>\n",
       "      <td>3100 N Tenaya Way</td>\n",
       "      <td>{'ByAppointmentOnly': 'False', 'GoodForKids': ...</td>\n",
       "      <td>...</td>\n",
       "      <td>0</td>\n",
       "      <td>0</td>\n",
       "      <td></td>\n",
       "      <td>0</td>\n",
       "      <td>frQs7y5qa-X1pvAM0sJe1w</td>\n",
       "      <td>4</td>\n",
       "      <td>Stefan</td>\n",
       "      <td>10</td>\n",
       "      <td>18</td>\n",
       "      <td>2008-07-10 17:24:47</td>\n",
       "    </tr>\n",
       "    <tr>\n",
       "      <th>1</th>\n",
       "      <td>ujmEBvifdJM6h6RLv4wQIg</td>\n",
       "      <td>0</td>\n",
       "      <td>2013-03-27 14:17:13</td>\n",
       "      <td>0</td>\n",
       "      <td>oy8f3bxyl7zZJFDQ5edtIA</td>\n",
       "      <td>1</td>\n",
       "      <td>3</td>\n",
       "      <td>hG7b0MtEbXx5QzbzE6C_VA</td>\n",
       "      <td>3100 N Tenaya Way</td>\n",
       "      <td>{'ByAppointmentOnly': 'False', 'GoodForKids': ...</td>\n",
       "      <td>...</td>\n",
       "      <td>0</td>\n",
       "      <td>0</td>\n",
       "      <td></td>\n",
       "      <td>0</td>\n",
       "      <td>frQs7y5qa-X1pvAM0sJe1w</td>\n",
       "      <td>4</td>\n",
       "      <td>Stefan</td>\n",
       "      <td>10</td>\n",
       "      <td>18</td>\n",
       "      <td>2008-07-10 17:24:47</td>\n",
       "    </tr>\n",
       "    <tr>\n",
       "      <th>2</th>\n",
       "      <td>lsAe6PMRTVGtaBqw3zKlMQ</td>\n",
       "      <td>0</td>\n",
       "      <td>2013-04-24 09:04:10</td>\n",
       "      <td>0</td>\n",
       "      <td>nsr-0uYDWv22qFdARRa2CQ</td>\n",
       "      <td>2</td>\n",
       "      <td>0</td>\n",
       "      <td>hG7b0MtEbXx5QzbzE6C_VA</td>\n",
       "      <td>3950 W Lake Mead Blvd</td>\n",
       "      <td>{'RestaurantsTakeOut': 'True', 'Caters': 'True...</td>\n",
       "      <td>...</td>\n",
       "      <td>0</td>\n",
       "      <td>0</td>\n",
       "      <td></td>\n",
       "      <td>0</td>\n",
       "      <td>frQs7y5qa-X1pvAM0sJe1w</td>\n",
       "      <td>4</td>\n",
       "      <td>Stefan</td>\n",
       "      <td>10</td>\n",
       "      <td>18</td>\n",
       "      <td>2008-07-10 17:24:47</td>\n",
       "    </tr>\n",
       "    <tr>\n",
       "      <th>3</th>\n",
       "      <td>xpEq8x5caXFm2lmjQ51rVQ</td>\n",
       "      <td>0</td>\n",
       "      <td>2014-02-27 04:20:15</td>\n",
       "      <td>0</td>\n",
       "      <td>D4_FpPSPRNtAj1964vXFPQ</td>\n",
       "      <td>2</td>\n",
       "      <td>2</td>\n",
       "      <td>hG7b0MtEbXx5QzbzE6C_VA</td>\n",
       "      <td>3228 Channel 8 Dr</td>\n",
       "      <td>None</td>\n",
       "      <td>...</td>\n",
       "      <td>0</td>\n",
       "      <td>0</td>\n",
       "      <td></td>\n",
       "      <td>0</td>\n",
       "      <td>frQs7y5qa-X1pvAM0sJe1w</td>\n",
       "      <td>4</td>\n",
       "      <td>Stefan</td>\n",
       "      <td>10</td>\n",
       "      <td>18</td>\n",
       "      <td>2008-07-10 17:24:47</td>\n",
       "    </tr>\n",
       "    <tr>\n",
       "      <th>4</th>\n",
       "      <td>Y07qIurPKiUJDnTZWxZN2A</td>\n",
       "      <td>0</td>\n",
       "      <td>2012-08-28 23:34:11</td>\n",
       "      <td>0</td>\n",
       "      <td>HeTRGukwBk1TPoX0dr4xZA</td>\n",
       "      <td>5</td>\n",
       "      <td>0</td>\n",
       "      <td>hG7b0MtEbXx5QzbzE6C_VA</td>\n",
       "      <td>4321 W Flamingo Rd</td>\n",
       "      <td>{'BusinessAcceptsCreditCards': 'True', 'Restau...</td>\n",
       "      <td>...</td>\n",
       "      <td>0</td>\n",
       "      <td>0</td>\n",
       "      <td></td>\n",
       "      <td>0</td>\n",
       "      <td>frQs7y5qa-X1pvAM0sJe1w</td>\n",
       "      <td>4</td>\n",
       "      <td>Stefan</td>\n",
       "      <td>10</td>\n",
       "      <td>18</td>\n",
       "      <td>2008-07-10 17:24:47</td>\n",
       "    </tr>\n",
       "  </tbody>\n",
       "</table>\n",
       "<p>5 rows × 42 columns</p>\n",
       "</div>"
      ],
      "text/plain": [
       "              business_id  cool_r               date_r  funny_r  \\\n",
       "0  ujmEBvifdJM6h6RLv4wQIg       0  2013-05-07 04:34:36        1   \n",
       "1  ujmEBvifdJM6h6RLv4wQIg       0  2013-03-27 14:17:13        0   \n",
       "2  lsAe6PMRTVGtaBqw3zKlMQ       0  2013-04-24 09:04:10        0   \n",
       "3  xpEq8x5caXFm2lmjQ51rVQ       0  2014-02-27 04:20:15        0   \n",
       "4  Y07qIurPKiUJDnTZWxZN2A       0  2012-08-28 23:34:11        0   \n",
       "\n",
       "              review_id_r  stars_r  useful_r                 user_id  \\\n",
       "0  Q1sbwvVQXV2734tPgoKj4Q        1         6  hG7b0MtEbXx5QzbzE6C_VA   \n",
       "1  oy8f3bxyl7zZJFDQ5edtIA        1         3  hG7b0MtEbXx5QzbzE6C_VA   \n",
       "2  nsr-0uYDWv22qFdARRa2CQ        2         0  hG7b0MtEbXx5QzbzE6C_VA   \n",
       "3  D4_FpPSPRNtAj1964vXFPQ        2         2  hG7b0MtEbXx5QzbzE6C_VA   \n",
       "4  HeTRGukwBk1TPoX0dr4xZA        5         0  hG7b0MtEbXx5QzbzE6C_VA   \n",
       "\n",
       "               address_b                                       attributes_b  \\\n",
       "0      3100 N Tenaya Way  {'ByAppointmentOnly': 'False', 'GoodForKids': ...   \n",
       "1      3100 N Tenaya Way  {'ByAppointmentOnly': 'False', 'GoodForKids': ...   \n",
       "2  3950 W Lake Mead Blvd  {'RestaurantsTakeOut': 'True', 'Caters': 'True...   \n",
       "3      3228 Channel 8 Dr                                               None   \n",
       "4     4321 W Flamingo Rd  {'BusinessAcceptsCreditCards': 'True', 'Restau...   \n",
       "\n",
       "   ... compliment_writer_u cool_u elite_u  fans_u               friends_u  \\\n",
       "0  ...                   0      0               0  frQs7y5qa-X1pvAM0sJe1w   \n",
       "1  ...                   0      0               0  frQs7y5qa-X1pvAM0sJe1w   \n",
       "2  ...                   0      0               0  frQs7y5qa-X1pvAM0sJe1w   \n",
       "3  ...                   0      0               0  frQs7y5qa-X1pvAM0sJe1w   \n",
       "4  ...                   0      0               0  frQs7y5qa-X1pvAM0sJe1w   \n",
       "\n",
       "   funny_u  name_u review_count_u  useful_u      yelping_since_u  \n",
       "0        4  Stefan             10        18  2008-07-10 17:24:47  \n",
       "1        4  Stefan             10        18  2008-07-10 17:24:47  \n",
       "2        4  Stefan             10        18  2008-07-10 17:24:47  \n",
       "3        4  Stefan             10        18  2008-07-10 17:24:47  \n",
       "4        4  Stefan             10        18  2008-07-10 17:24:47  \n",
       "\n",
       "[5 rows x 42 columns]"
      ]
     },
     "execution_count": 26,
     "metadata": {},
     "output_type": "execute_result"
    }
   ],
   "source": [
    "df.head()"
   ]
  },
  {
   "cell_type": "code",
   "execution_count": null,
   "metadata": {},
   "outputs": [],
   "source": [
    "print(sum(df['']))"
   ]
  }
 ],
 "metadata": {
  "kernelspec": {
   "display_name": "Python 3",
   "language": "python",
   "name": "python3"
  },
  "language_info": {
   "codemirror_mode": {
    "name": "ipython",
    "version": 3
   },
   "file_extension": ".py",
   "mimetype": "text/x-python",
   "name": "python",
   "nbconvert_exporter": "python",
   "pygments_lexer": "ipython3",
   "version": "3.7.3"
  }
 },
 "nbformat": 4,
 "nbformat_minor": 2
}
