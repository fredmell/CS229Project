{
 "cells": [
  {
   "cell_type": "markdown",
   "metadata": {},
   "source": [
    "# Model Selection"
   ]
  },
  {
   "cell_type": "code",
   "execution_count": 1,
   "metadata": {},
   "outputs": [],
   "source": [
    "import numpy as np\n",
    "import pandas as pd\n",
    "import pickle"
   ]
  },
  {
   "cell_type": "code",
   "execution_count": 2,
   "metadata": {},
   "outputs": [],
   "source": [
    "# See binary_classification.py\n",
    "from binary_classification import *"
   ]
  },
  {
   "cell_type": "markdown",
   "metadata": {},
   "source": [
    "## Load Data and Predictors"
   ]
  },
  {
   "cell_type": "code",
   "execution_count": 3,
   "metadata": {},
   "outputs": [],
   "source": [
    "# Load pickled data\n",
    "df = pd.read_pickle(\"data/yelp_df_final.pkl\")\n",
    "\n",
    "# Split data\n",
    "train_df = df[df[\"dataset\"] == \"train\"]\n",
    "valid_df = df[df[\"dataset\"] == \"val\"].reset_index(drop = True)"
   ]
  },
  {
   "cell_type": "code",
   "execution_count": 4,
   "metadata": {},
   "outputs": [],
   "source": [
    "# Parameters excluded from predictions\n",
    "exclude = [\"review_id\", \n",
    "           \"business_id\", \n",
    "           \"user_id\", \n",
    "           \"label\", \n",
    "           \"date\", \n",
    "           \"categories\", \n",
    "           \"is_open\",\n",
    "           \"postal_code\", \n",
    "           \"dataset\"]\n",
    "\n",
    "# Predictors\n",
    "predictors = list(train_df.columns)\n",
    "for col in exclude:   \n",
    "    predictors.remove(col)\n",
    "\n",
    "# Label\n",
    "outcome = \"label\""
   ]
  },
  {
   "cell_type": "markdown",
   "metadata": {},
   "source": [
    "## Load Models"
   ]
  },
  {
   "cell_type": "code",
   "execution_count": 5,
   "metadata": {},
   "outputs": [],
   "source": [
    "# Logistic regression with L1 and L2 penalization\n",
    "l1_model = pickle.load(open(\"results/model_l1.pkl\", \"rb\"))\n",
    "l2_model = pickle.load(open(\"results/model_l2.pkl\", \"rb\"))\n",
    "\n",
    "# GDA\n",
    "gda_model = pickle.load(open(\"results/model_gda.pkl\", \"rb\"))\n",
    "\n",
    "# Decision tree\n",
    "dt_model = pickle.load(open(\"results/model_dt_best.pkl\", \"rb\"))\n",
    "\n",
    "# Random Forest\n",
    "rf_model = pickle.load(open(\"results/model_rf_best.pkl\", \"rb\"))\n",
    "\n",
    "# AdaBoost\n",
    "ab_model = pickle.load(open(\"results/model_ab_40_4.pkl\", \"rb\"))"
   ]
  },
  {
   "cell_type": "markdown",
   "metadata": {},
   "source": [
    "## Accuracy on Train and Valid"
   ]
  },
  {
   "cell_type": "code",
   "execution_count": 6,
   "metadata": {},
   "outputs": [],
   "source": [
    "bc = BinaryClassifier(train_data = None,\n",
    "                    valid_data = train_df,\n",
    "                    test_data = valid_df,\n",
    "                    predictors = predictors,\n",
    "                    outcome = outcome)"
   ]
  },
  {
   "cell_type": "code",
   "execution_count": 7,
   "metadata": {},
   "outputs": [],
   "source": [
    "def select_model(train_df, \n",
    "                 valid_df, \n",
    "                 predictors, \n",
    "                 outcome, \n",
    "                 model):\n",
    "    \n",
    "    # Initialize class instance\n",
    "    bc = BinaryClassifier(train_data = None,\n",
    "                        valid_data = train_df,\n",
    "                        test_data = valid_df,\n",
    "                        predictors = predictors,\n",
    "                        outcome = outcome)\n",
    "    \n",
    "    # Set model\n",
    "    bc.set_model(model)\n",
    "    \n",
    "    # Training set accuracy\n",
    "    bc.compute_prob(prob_set = \"Valid\")\n",
    "    train_acc = bc.performance_metric(prob_set = \"Valid\", measure = \"Accuracy\")\n",
    "    \n",
    "    # Validation set accuracy\n",
    "    bc.compute_prob(prob_set = \"Test\")\n",
    "    valid_acc = bc.performance_metric(prob_set = \"Test\", measure = \"Accuracy\")\n",
    "    \n",
    "    print(\"Train Accuracy: {:.4f}\".format(train_acc))\n",
    "    print(\"Train Accuracy: {:.4f}\".format(valid_acc))\n",
    "    "
   ]
  },
  {
   "cell_type": "markdown",
   "metadata": {},
   "source": [
    "## L2-Regularized Logistic Regression"
   ]
  },
  {
   "cell_type": "code",
   "execution_count": 8,
   "metadata": {},
   "outputs": [
    {
     "name": "stdout",
     "output_type": "stream",
     "text": [
      "Train Accuracy: 0.6373\n",
      "Train Accuracy: 0.6053\n"
     ]
    }
   ],
   "source": [
    "select_model(train_df, valid_df, predictors, outcome, l2_model)"
   ]
  },
  {
   "cell_type": "markdown",
   "metadata": {},
   "source": [
    "## L1-Regularized Logisitic Regression"
   ]
  },
  {
   "cell_type": "code",
   "execution_count": 9,
   "metadata": {},
   "outputs": [
    {
     "name": "stdout",
     "output_type": "stream",
     "text": [
      "Train Accuracy: 0.7415\n",
      "Train Accuracy: 0.7487\n"
     ]
    }
   ],
   "source": [
    "select_model(train_df, valid_df, predictors, outcome, l1_model)"
   ]
  },
  {
   "cell_type": "markdown",
   "metadata": {},
   "source": [
    "## GDA"
   ]
  },
  {
   "cell_type": "code",
   "execution_count": 10,
   "metadata": {},
   "outputs": [
    {
     "name": "stdout",
     "output_type": "stream",
     "text": [
      "Train Accuracy: 0.7407\n",
      "Train Accuracy: 0.7469\n"
     ]
    }
   ],
   "source": [
    "select_model(train_df, valid_df, predictors, outcome, gda_model)"
   ]
  },
  {
   "cell_type": "markdown",
   "metadata": {},
   "source": [
    "## Decision Tree"
   ]
  },
  {
   "cell_type": "code",
   "execution_count": 11,
   "metadata": {},
   "outputs": [
    {
     "name": "stdout",
     "output_type": "stream",
     "text": [
      "Train Accuracy: 0.7537\n",
      "Train Accuracy: 0.7597\n"
     ]
    }
   ],
   "source": [
    "select_model(train_df, valid_df, predictors, outcome, dt_model)"
   ]
  },
  {
   "cell_type": "markdown",
   "metadata": {},
   "source": [
    "## Random Forest"
   ]
  },
  {
   "cell_type": "code",
   "execution_count": 12,
   "metadata": {},
   "outputs": [
    {
     "name": "stdout",
     "output_type": "stream",
     "text": [
      "Train Accuracy: 0.7168\n",
      "Train Accuracy: 0.7156\n"
     ]
    }
   ],
   "source": [
    "select_model(train_df, valid_df, predictors, outcome, rf_model)"
   ]
  },
  {
   "cell_type": "markdown",
   "metadata": {},
   "source": [
    "## AdaBoost"
   ]
  },
  {
   "cell_type": "code",
   "execution_count": 13,
   "metadata": {},
   "outputs": [
    {
     "name": "stdout",
     "output_type": "stream",
     "text": [
      "Train Accuracy: 0.7533\n",
      "Train Accuracy: 0.7613\n"
     ]
    }
   ],
   "source": [
    "select_model(train_df, valid_df, predictors, outcome, ab_model)"
   ]
  }
 ],
 "metadata": {
  "kernelspec": {
   "display_name": "Python 3",
   "language": "python",
   "name": "python3"
  },
  "language_info": {
   "codemirror_mode": {
    "name": "ipython",
    "version": 3
   },
   "file_extension": ".py",
   "mimetype": "text/x-python",
   "name": "python",
   "nbconvert_exporter": "python",
   "pygments_lexer": "ipython3",
   "version": "3.7.4"
  }
 },
 "nbformat": 4,
 "nbformat_minor": 2
}
