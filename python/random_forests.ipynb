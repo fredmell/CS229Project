{
 "cells": [
  {
   "cell_type": "markdown",
   "metadata": {},
   "source": [
    "# Random Forests"
   ]
  },
  {
   "cell_type": "code",
   "execution_count": 1,
   "metadata": {},
   "outputs": [],
   "source": [
    "# See binary_classification.py\n",
    "from binary_classification import *"
   ]
  },
  {
   "cell_type": "code",
   "execution_count": 2,
   "metadata": {},
   "outputs": [],
   "source": [
    "# Import libraries\n",
    "import numpy as np\n",
    "import pandas as pd\n",
    "import pickle\n",
    "import matplotlib.pyplot as plt\n",
    "plt.style.use('ggplot')\n",
    "plt.rcParams.update({'font.size': 16})"
   ]
  },
  {
   "cell_type": "code",
   "execution_count": 3,
   "metadata": {},
   "outputs": [],
   "source": [
    "# Load pickled data\n",
    "df = pd.read_pickle(\"data/yelp_df_final.pkl\")\n",
    "\n",
    "# Split data\n",
    "train_df = df[df[\"dataset\"] == \"train\"]\n",
    "valid_df = df[df[\"dataset\"] == \"val\"].reset_index(drop = True)"
   ]
  },
  {
   "cell_type": "code",
   "execution_count": 4,
   "metadata": {},
   "outputs": [],
   "source": [
    "# Parameters excluded from predictions\n",
    "exclude = [\"review_id\", \n",
    "           \"business_id\", \n",
    "           \"user_id\", \n",
    "           \"label\", \n",
    "           \"date\", \n",
    "           \"categories\", \n",
    "           \"is_open\",\n",
    "           \"postal_code\", \n",
    "           \"dataset\"]\n",
    "\n",
    "# Predictors\n",
    "predictors = list(train_df.columns)\n",
    "for col in exclude:   \n",
    "    predictors.remove(col)\n",
    "\n",
    "# Label\n",
    "outcome = \"label\""
   ]
  },
  {
   "cell_type": "markdown",
   "metadata": {},
   "source": [
    "## Cross-Validation\n",
    "\n",
    "Tune Random Forest Classifier hyperparameters number of estimators and max depth of estimator via grid search over values with accuracy on validation data as criterion"
   ]
  },
  {
   "cell_type": "code",
   "execution_count": 5,
   "metadata": {},
   "outputs": [],
   "source": [
    "def rf_grid_seach(train_df,\n",
    "                  valid_df, \n",
    "                  predictors,\n",
    "                  outcome,\n",
    "                  n_estimators,\n",
    "                  depths, \n",
    "                  measure = \"Accuracy\"):\n",
    "    '''\n",
    "    Execute grid search over random forest classifier hyperparameters\n",
    "    max depth and number of estimators\n",
    "    '''\n",
    "    \n",
    "    # Initialize results\n",
    "    result = {}\n",
    "    \n",
    "    # Store best model\n",
    "    best_model = None\n",
    "    best_acc = 0\n",
    "    \n",
    "    # Grid search\n",
    "    for d in depths:\n",
    "        for n in n_estimators:\n",
    "            \n",
    "            # Initialize class instance\n",
    "            rf = RandomForest(train_data = train_df,\n",
    "                              valid_data = valid_df,\n",
    "                              test_data = None,\n",
    "                              predictors = predictors,\n",
    "                              outcome = outcome)\n",
    "            \n",
    "            # Train model\n",
    "            rf.train(criterion = \"entropy\",\n",
    "                     n_estimators = 10,\n",
    "                     max_depth = 4)\n",
    "            \n",
    "            # Save trained model object to pickle\n",
    "            pickle_out = open(\"results/model_rf_{}_{}.pkl\".format(n,d), \"wb\")\n",
    "            pickle.dump(rf.model, pickle_out)\n",
    "            pickle_out.close()\n",
    "            \n",
    "            # Compute accuracy \n",
    "            rf.compute_prob(prob_set = \"Valid\")\n",
    "            acc = rf.performance_metric(prob_set = \"Valid\",\n",
    "                                        measure = measure)\n",
    "            \n",
    "            # Update best model\n",
    "            if acc > best_acc:\n",
    "                best_acc = acc\n",
    "                best_model = rf.model\n",
    "                \n",
    "            # Record result\n",
    "            result[(n, d)] = acc\n",
    "            print(\"d: {}, n: {}, Validation Accuracy: {:.2f}\".format(d, n, acc))\n",
    "            \n",
    "    return best_model, result"
   ]
  },
  {
   "cell_type": "code",
   "execution_count": 6,
   "metadata": {},
   "outputs": [],
   "source": [
    "# Depths to search over \n",
    "depths = list(range(1, 6))\n",
    "\n",
    "# Number of estimators to search over \n",
    "n_estimators = [10, 20, 30, 40, 50]"
   ]
  },
  {
   "cell_type": "code",
   "execution_count": 7,
   "metadata": {},
   "outputs": [
    {
     "name": "stdout",
     "output_type": "stream",
     "text": [
      "Time to train: 114.66\n",
      "d: 1, n: 10, Validation Accuracy: 0.68\n",
      "Time to train: 99.79\n",
      "d: 1, n: 20, Validation Accuracy: 0.68\n",
      "Time to train: 87.04\n",
      "d: 1, n: 30, Validation Accuracy: 0.68\n",
      "Time to train: 114.17\n",
      "d: 1, n: 40, Validation Accuracy: 0.68\n",
      "Time to train: 100.91\n",
      "d: 1, n: 50, Validation Accuracy: 0.68\n",
      "Time to train: 127.36\n",
      "d: 2, n: 10, Validation Accuracy: 0.68\n",
      "Time to train: 105.59\n",
      "d: 2, n: 20, Validation Accuracy: 0.68\n",
      "Time to train: 111.70\n",
      "d: 2, n: 30, Validation Accuracy: 0.68\n",
      "Time to train: 93.59\n",
      "d: 2, n: 40, Validation Accuracy: 0.68\n",
      "Time to train: 120.46\n",
      "d: 2, n: 50, Validation Accuracy: 0.68\n",
      "Time to train: 104.47\n",
      "d: 3, n: 10, Validation Accuracy: 0.68\n",
      "Time to train: 92.02\n",
      "d: 3, n: 20, Validation Accuracy: 0.68\n",
      "Time to train: 112.08\n",
      "d: 3, n: 30, Validation Accuracy: 0.68\n",
      "Time to train: 98.03\n",
      "d: 3, n: 40, Validation Accuracy: 0.68\n",
      "Time to train: 87.95\n",
      "d: 3, n: 50, Validation Accuracy: 0.68\n",
      "Time to train: 113.39\n",
      "d: 4, n: 10, Validation Accuracy: 0.68\n",
      "Time to train: 108.51\n",
      "d: 4, n: 20, Validation Accuracy: 0.68\n",
      "Time to train: 94.10\n",
      "d: 4, n: 30, Validation Accuracy: 0.68\n",
      "Time to train: 91.54\n",
      "d: 4, n: 40, Validation Accuracy: 0.68\n",
      "Time to train: 116.52\n",
      "d: 4, n: 50, Validation Accuracy: 0.68\n",
      "Time to train: 99.27\n",
      "d: 5, n: 10, Validation Accuracy: 0.68\n",
      "Time to train: 94.62\n",
      "d: 5, n: 20, Validation Accuracy: 0.68\n",
      "Time to train: 111.91\n",
      "d: 5, n: 30, Validation Accuracy: 0.68\n",
      "Time to train: 96.76\n",
      "d: 5, n: 40, Validation Accuracy: 0.68\n",
      "Time to train: 90.51\n",
      "d: 5, n: 50, Validation Accuracy: 0.68\n"
     ]
    }
   ],
   "source": [
    "# Execute grid search \n",
    "best_rf, accs = rf_grid_seach(train_df,\n",
    "                              valid_df,\n",
    "                              predictors,\n",
    "                              outcome, \n",
    "                              n_estimators,\n",
    "                              depths, \n",
    "                              \"Accuracy\")"
   ]
  },
  {
   "cell_type": "code",
   "execution_count": 8,
   "metadata": {},
   "outputs": [],
   "source": [
    "# Save best model\n",
    "pickle_out = open(\"results/model_rf_best.pkl\", \"wb\")\n",
    "pickle.dump(best_rf, pickle_out)\n",
    "pickle_out.close()"
   ]
  },
  {
   "cell_type": "code",
   "execution_count": 11,
   "metadata": {},
   "outputs": [
    {
     "name": "stdout",
     "output_type": "stream",
     "text": [
      "Best n: 10, Best d: 1\n"
     ]
    }
   ],
   "source": [
    "best_n, best_d = max(accs, key=accs.get)\n",
    "print(\"Best n: {}, Best d: {}\".format(best_n, best_d))"
   ]
  }
 ],
 "metadata": {
  "kernelspec": {
   "display_name": "Python 3",
   "language": "python",
   "name": "python3"
  },
  "language_info": {
   "codemirror_mode": {
    "name": "ipython",
    "version": 3
   },
   "file_extension": ".py",
   "mimetype": "text/x-python",
   "name": "python",
   "nbconvert_exporter": "python",
   "pygments_lexer": "ipython3",
   "version": "3.7.4"
  }
 },
 "nbformat": 4,
 "nbformat_minor": 2
}
