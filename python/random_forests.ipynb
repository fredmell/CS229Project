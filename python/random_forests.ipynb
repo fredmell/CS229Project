{
 "cells": [
  {
   "cell_type": "markdown",
   "metadata": {},
   "source": [
    "# Random Forests"
   ]
  },
  {
   "cell_type": "code",
   "execution_count": 1,
   "metadata": {},
   "outputs": [],
   "source": [
    "# See binary_classification.py\n",
    "from binary_classification import *"
   ]
  },
  {
   "cell_type": "code",
   "execution_count": 2,
   "metadata": {},
   "outputs": [],
   "source": [
    "# Import libraries\n",
    "import numpy as np\n",
    "import pandas as pd\n",
    "import pickle\n",
    "import matplotlib.pyplot as plt\n",
    "plt.style.use('ggplot')\n",
    "plt.rcParams.update({'font.size': 16})"
   ]
  },
  {
   "cell_type": "code",
   "execution_count": 3,
   "metadata": {},
   "outputs": [],
   "source": [
    "# Load pickled data\n",
    "df = pd.read_pickle(\"data/yelp_df_final.pkl\")\n",
    "\n",
    "# Split data\n",
    "train_df = df[df[\"dataset\"] == \"train\"]\n",
    "valid_df = df[df[\"dataset\"] == \"val\"].reset_index(drop = True)"
   ]
  },
  {
   "cell_type": "code",
   "execution_count": 4,
   "metadata": {},
   "outputs": [],
   "source": [
    "# Parameters excluded from predictions\n",
    "exclude = [\"review_id\", \n",
    "           \"business_id\", \n",
    "           \"user_id\", \n",
    "           \"label\", \n",
    "           \"date\", \n",
    "           \"categories\", \n",
    "           \"is_open\",\n",
    "           \"postal_code\", \n",
    "           \"dataset\"]\n",
    "\n",
    "# Predictors\n",
    "predictors = list(train_df.columns)\n",
    "for col in exclude:   \n",
    "    predictors.remove(col)\n",
    "\n",
    "# Label\n",
    "outcome = \"label\""
   ]
  },
  {
   "cell_type": "markdown",
   "metadata": {},
   "source": [
    "## Cross-Validation\n",
    "\n",
    "Tune Random Forest Classifier hyperparameters number of estimators and max depth of estimator via grid search over values with accuracy on validation data as criterion"
   ]
  },
  {
   "cell_type": "code",
   "execution_count": 5,
   "metadata": {},
   "outputs": [],
   "source": [
    "def rf_grid_seach(train_df,\n",
    "                  valid_df, \n",
    "                  predictors,\n",
    "                  outcome,\n",
    "                  n_estimators,\n",
    "                  depths, \n",
    "                  measure = \"Accuracy\"):\n",
    "    '''\n",
    "    Execute grid search over random forest classifier hyperparameters\n",
    "    max depth and number of estimators\n",
    "    '''\n",
    "    \n",
    "    # Initialize results\n",
    "    result = {}\n",
    "    \n",
    "    # Store best model\n",
    "    best_model = None\n",
    "    best_acc = 0\n",
    "    \n",
    "    # Grid search\n",
    "    for d in depths:\n",
    "        for n in n_estimators:\n",
    "            \n",
    "            # Initialize class instance\n",
    "            rf = RandomForest(train_data = train_df,\n",
    "                              valid_data = valid_df,\n",
    "                              test_data = None,\n",
    "                              predictors = predictors,\n",
    "                              outcome = outcome)\n",
    "            \n",
    "            # Train model\n",
    "            rf.train(criterion = \"entropy\",\n",
    "                     n_estimators = n,\n",
    "                     max_depth = d)\n",
    "            \n",
    "            # Save trained model object to pickle\n",
    "            pickle_out = open(\"results/model_rf_{}_{}.pkl\".format(n,d), \"wb\")\n",
    "            pickle.dump(rf.model, pickle_out)\n",
    "            pickle_out.close()\n",
    "            \n",
    "            # Compute accuracy \n",
    "            rf.compute_prob(prob_set = \"Valid\")\n",
    "            acc = rf.performance_metric(prob_set = \"Valid\",\n",
    "                                        measure = measure)\n",
    "            \n",
    "            # Update best model\n",
    "            if acc > best_acc:\n",
    "                best_acc = acc\n",
    "                best_model = rf.model\n",
    "                \n",
    "            # Record result\n",
    "            result[(n, d)] = acc\n",
    "            print(\"d: {}, n: {}, Validation Accuracy: {:.4f}\".format(d, n, acc))\n",
    "            \n",
    "    return best_model, result"
   ]
  },
  {
   "cell_type": "code",
   "execution_count": 6,
   "metadata": {},
   "outputs": [],
   "source": [
    "# Depths to search over \n",
    "depths = list(range(1, 6))\n",
    "\n",
    "# Number of estimators to search over \n",
    "n_estimators = [10, 20, 30, 40, 50]"
   ]
  },
  {
   "cell_type": "code",
   "execution_count": 7,
   "metadata": {},
   "outputs": [
    {
     "name": "stdout",
     "output_type": "stream",
     "text": [
      "Time to train: 65.58\n",
      "d: 1, n: 10, Validation Accuracy: 0.6710\n",
      "Time to train: 62.57\n",
      "d: 1, n: 20, Validation Accuracy: 0.6648\n",
      "Time to train: 76.69\n",
      "d: 1, n: 30, Validation Accuracy: 0.5813\n",
      "Time to train: 95.09\n",
      "d: 1, n: 40, Validation Accuracy: 0.5525\n",
      "Time to train: 112.58\n",
      "d: 1, n: 50, Validation Accuracy: 0.5449\n",
      "Time to train: 54.82\n",
      "d: 2, n: 10, Validation Accuracy: 0.6743\n",
      "Time to train: 95.92\n",
      "d: 2, n: 20, Validation Accuracy: 0.6714\n",
      "Time to train: 131.23\n",
      "d: 2, n: 30, Validation Accuracy: 0.6692\n",
      "Time to train: 166.22\n",
      "d: 2, n: 40, Validation Accuracy: 0.6830\n",
      "Time to train: 203.29\n",
      "d: 2, n: 50, Validation Accuracy: 0.6875\n",
      "Time to train: 75.56\n",
      "d: 3, n: 10, Validation Accuracy: 0.6831\n",
      "Time to train: 129.74\n",
      "d: 3, n: 20, Validation Accuracy: 0.6790\n",
      "Time to train: 184.31\n",
      "d: 3, n: 30, Validation Accuracy: 0.6908\n",
      "Time to train: 239.16\n",
      "d: 3, n: 40, Validation Accuracy: 0.6993\n",
      "Time to train: 293.39\n",
      "d: 3, n: 50, Validation Accuracy: 0.7044\n",
      "Time to train: 92.12\n",
      "d: 4, n: 10, Validation Accuracy: 0.6783\n",
      "Time to train: 161.81\n",
      "d: 4, n: 20, Validation Accuracy: 0.6798\n",
      "Time to train: 239.24\n",
      "d: 4, n: 30, Validation Accuracy: 0.7007\n",
      "Time to train: 299.40\n",
      "d: 4, n: 40, Validation Accuracy: 0.7089\n",
      "Time to train: 341.84\n",
      "d: 4, n: 50, Validation Accuracy: 0.7103\n",
      "Time to train: 91.93\n",
      "d: 5, n: 10, Validation Accuracy: 0.7058\n",
      "Time to train: 179.40\n",
      "d: 5, n: 20, Validation Accuracy: 0.7018\n",
      "Time to train: 251.63\n",
      "d: 5, n: 30, Validation Accuracy: 0.7014\n",
      "Time to train: 333.80\n",
      "d: 5, n: 40, Validation Accuracy: 0.7105\n",
      "Time to train: 407.79\n",
      "d: 5, n: 50, Validation Accuracy: 0.7156\n"
     ]
    }
   ],
   "source": [
    "# Execute grid search \n",
    "best_rf, accs = rf_grid_seach(train_df,\n",
    "                              valid_df,\n",
    "                              predictors,\n",
    "                              outcome, \n",
    "                              n_estimators,\n",
    "                              depths, \n",
    "                              \"Accuracy\")"
   ]
  },
  {
   "cell_type": "code",
   "execution_count": 8,
   "metadata": {},
   "outputs": [],
   "source": [
    "# Save best model\n",
    "pickle_out = open(\"results/model_rf_best.pkl\", \"wb\")\n",
    "pickle.dump(best_rf, pickle_out)\n",
    "pickle_out.close()"
   ]
  },
  {
   "cell_type": "code",
   "execution_count": 9,
   "metadata": {},
   "outputs": [
    {
     "name": "stdout",
     "output_type": "stream",
     "text": [
      "Best n: 50, Best d: 5\n"
     ]
    }
   ],
   "source": [
    "best_n, best_d = max(accs, key=accs.get)\n",
    "print(\"Best n: {}, Best d: {}\".format(best_n, best_d))"
   ]
  }
 ],
 "metadata": {
  "kernelspec": {
   "display_name": "Python 3",
   "language": "python",
   "name": "python3"
  },
  "language_info": {
   "codemirror_mode": {
    "name": "ipython",
    "version": 3
   },
   "file_extension": ".py",
   "mimetype": "text/x-python",
   "name": "python",
   "nbconvert_exporter": "python",
   "pygments_lexer": "ipython3",
   "version": "3.7.4"
  }
 },
 "nbformat": 4,
 "nbformat_minor": 2
}
