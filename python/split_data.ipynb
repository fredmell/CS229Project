{
 "cells": [
  {
   "cell_type": "code",
   "execution_count": 130,
   "metadata": {},
   "outputs": [],
   "source": [
    "import numpy as np\n",
    "import pandas as pd"
   ]
  },
  {
   "cell_type": "code",
   "execution_count": 131,
   "metadata": {},
   "outputs": [],
   "source": [
    "df = pd.read_pickle(\"../data/yelp_df.pkl\")"
   ]
  },
  {
   "cell_type": "code",
   "execution_count": 132,
   "metadata": {},
   "outputs": [],
   "source": [
    "# Get unique businesses and users\n",
    "bs = df.business_id.unique()\n",
    "us = df.user_id.unique()\n",
    "\n",
    "# Define split (train, valid, test) on the separate businesses and users\n",
    "split = [0.205, 0.438]\n",
    "\n",
    "# Split users and businesses separately\n",
    "bs_split = np.split(bs, [int(split[0]*len(bs)), int(split[1]*len(bs))])\n",
    "us_split = np.split(us, [int(split[0]*len(us)), int(split[1]*len(us))])"
   ]
  },
  {
   "cell_type": "code",
   "execution_count": 133,
   "metadata": {},
   "outputs": [],
   "source": [
    "# Get observations where user and business are in the correct split\n",
    "train = df[(df.business_id.isin(bs_split[0])) & (df.user_id.isin(us_split[0]))]\n",
    "val   = df[(df.business_id.isin(bs_split[1])) & (df.user_id.isin(us_split[1]))]\n",
    "test  = df[(df.business_id.isin(bs_split[2])) & (df.user_id.isin(us_split[2]))]"
   ]
  },
  {
   "cell_type": "code",
   "execution_count": 135,
   "metadata": {},
   "outputs": [
    {
     "name": "stdout",
     "output_type": "stream",
     "text": [
      "0.7985921060437619 0.09551502621946972 0.10589286773676838\n",
      "2476843 296241 328428\n",
      "0.46388848173020836\n"
     ]
    }
   ],
   "source": [
    "m = len(train) + len(val) + len(test)\n",
    "print(len(train)/m, len(val)/m, len(test)/m)\n",
    "print(len(train), len(val), len(test))\n",
    "print(m/len(df))"
   ]
  },
  {
   "cell_type": "code",
   "execution_count": 136,
   "metadata": {},
   "outputs": [],
   "source": [
    "train.to_pickle(\"../data/train.pkl\")\n",
    "val.to_pickle(\"../data/val.pkl\")\n",
    "test.to_pickle(\"../data/test.pkl\")"
   ]
  },
  {
   "cell_type": "code",
   "execution_count": null,
   "metadata": {},
   "outputs": [],
   "source": []
  }
 ],
 "metadata": {
  "kernelspec": {
   "display_name": "Python 3",
   "language": "python",
   "name": "python3"
  },
  "language_info": {
   "codemirror_mode": {
    "name": "ipython",
    "version": 3
   },
   "file_extension": ".py",
   "mimetype": "text/x-python",
   "name": "python",
   "nbconvert_exporter": "python",
   "pygments_lexer": "ipython3",
   "version": "3.7.3"
  }
 },
 "nbformat": 4,
 "nbformat_minor": 2
}
