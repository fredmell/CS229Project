{
 "cells": [
  {
   "cell_type": "markdown",
   "metadata": {},
   "source": [
    "# XGBoost"
   ]
  },
  {
   "cell_type": "code",
   "execution_count": 1,
   "metadata": {},
   "outputs": [],
   "source": [
    "# Import libraries\n",
    "import numpy as np\n",
    "import pandas as pd\n",
    "import pickle\n",
    "import time\n",
    "import xgboost as xgb\n",
    "import matplotlib.pyplot as plt\n",
    "plt.style.use('ggplot')\n",
    "plt.rcParams.update({'font.size': 16})\n",
    "\n",
    "# Metrics\n",
    "from sklearn.metrics import auc, roc_curve, roc_auc_score, precision_score, accuracy_score, recall_score, f1_score, precision_recall_curve, confusion_matrix"
   ]
  },
  {
   "cell_type": "markdown",
   "metadata": {},
   "source": [
    "# Load Data"
   ]
  },
  {
   "cell_type": "code",
   "execution_count": 2,
   "metadata": {},
   "outputs": [],
   "source": [
    "# Load pickled data\n",
    "df = pd.read_pickle(\"data/yelp_df_final.pkl\")\n",
    "\n",
    "# Split data\n",
    "train_df = df[df[\"dataset\"] == \"train\"]\n",
    "valid_df = df[df[\"dataset\"] == \"val\"].reset_index(drop = True)\n",
    "test_df  = df[df[\"dataset\"] == \"test\"].reset_index(drop = True)"
   ]
  },
  {
   "cell_type": "code",
   "execution_count": 3,
   "metadata": {},
   "outputs": [],
   "source": [
    "# Parameters excluded from predictions\n",
    "exclude = [\"review_id\", \n",
    "           \"business_id\", \n",
    "           \"user_id\", \n",
    "           \"label\", \n",
    "           \"date\", \n",
    "           \"categories\", \n",
    "           \"is_open\",\n",
    "           \"postal_code\", \n",
    "           \"dataset\"]\n",
    "\n",
    "# Predictors\n",
    "predictors = list(train_df.columns)\n",
    "for col in exclude:   \n",
    "    predictors.remove(col)\n",
    "\n",
    "# Label\n",
    "outcome = \"label\""
   ]
  },
  {
   "cell_type": "code",
   "execution_count": 4,
   "metadata": {},
   "outputs": [],
   "source": [
    "# Train features and labels\n",
    "X_train = np.array(train_df[predictors])\n",
    "y_train = np.array(train_df[outcome])\n",
    "\n",
    "# Validation features and labels\n",
    "X_valid = np.array(valid_df[predictors])\n",
    "y_valid = np.array(valid_df[outcome])\n",
    "\n",
    "# Test features and labels\n",
    "X_test  = np.array(test_df[predictors])\n",
    "y_test  = np.array(test_df[outcome])"
   ]
  },
  {
   "cell_type": "code",
   "execution_count": null,
   "metadata": {},
   "outputs": [],
   "source": [
    "# Save XGBoost data types \n",
    "dtrain = xgb.DMatrix(X_train, label = y_train)\n",
    "dvalid = xgb.DMatrix(X_valid, label = y_valid)\n",
    "dtest  = xgb.DMatrix(X_test,  label = y_test)"
   ]
  },
  {
   "cell_type": "markdown",
   "metadata": {},
   "source": [
    "# Set Parameters"
   ]
  },
  {
   "cell_type": "code",
   "execution_count": null,
   "metadata": {},
   "outputs": [],
   "source": [
    "# Hyperparameters for model\n",
    "param = {'max_depth': 4,\n",
    "         'eta': 1.0,\n",
    "         'min_child_weight': 1}\n",
    "\n",
    "# Base estimator\n",
    "param['booster'] = 'gbtree'\n",
    "\n",
    "# Learning task and corresponding learning objective\n",
    "param['objective'] = 'binary:logistic'\n",
    "\n",
    "# Evaluation metrics for validation data \n",
    "# (wrong cases) / (all cases)\n",
    "param['eval_metric'] = 'error' \n",
    "\n",
    "# Specify validation set to watch performance\n",
    "evallist = [(dvalid, 'eval'), (dtrain, 'train')]\n",
    "\n",
    "# Number of rounds for boosting\n",
    "num_round = 200\n",
    "\n",
    "# Validation error needs to decrease at least every early_stopping_rounds \n",
    "early_stopping_rounds = 2"
   ]
  },
  {
   "cell_type": "markdown",
   "metadata": {},
   "source": [
    "# Training"
   ]
  },
  {
   "cell_type": "code",
   "execution_count": null,
   "metadata": {},
   "outputs": [
    {
     "name": "stdout",
     "output_type": "stream",
     "text": [
      "[15:44:39] WARNING: src/learner.cc:686: Tree method is automatically selected to be 'approx' for faster speed. To use old behavior (exact greedy algorithm on single machine), set tree_method to 'exact'.\n",
      "[0]\teval-error:0.256985\ttrain-error:0.262801\n",
      "Multiple eval metrics have been passed: 'train-error' will be used for early stopping.\n",
      "\n",
      "Will train until train-error hasn't improved in 2 rounds.\n",
      "[1]\teval-error:0.253573\ttrain-error:0.260447\n",
      "[2]\teval-error:0.247855\ttrain-error:0.25525\n",
      "[3]\teval-error:0.24583\ttrain-error:0.254627\n",
      "[4]\teval-error:0.244654\ttrain-error:0.253653\n",
      "[5]\teval-error:0.243736\ttrain-error:0.252367\n",
      "[6]\teval-error:0.243527\ttrain-error:0.252024\n",
      "[7]\teval-error:0.243482\ttrain-error:0.251868\n",
      "[8]\teval-error:0.242165\ttrain-error:0.250652\n",
      "[9]\teval-error:0.241107\ttrain-error:0.249853\n",
      "[10]\teval-error:0.240696\ttrain-error:0.24948\n",
      "[11]\teval-error:0.240493\ttrain-error:0.249277\n",
      "[12]\teval-error:0.240405\ttrain-error:0.249065\n",
      "[13]\teval-error:0.240288\ttrain-error:0.248897\n",
      "[14]\teval-error:0.240214\ttrain-error:0.248823\n",
      "[15]\teval-error:0.240335\ttrain-error:0.24873\n",
      "[16]\teval-error:0.240178\ttrain-error:0.248531\n",
      "[17]\teval-error:0.240045\ttrain-error:0.248378\n",
      "[18]\teval-error:0.240096\ttrain-error:0.248325\n",
      "[19]\teval-error:0.239816\ttrain-error:0.248043\n",
      "[20]\teval-error:0.23977\ttrain-error:0.247973\n",
      "[21]\teval-error:0.239781\ttrain-error:0.247888\n",
      "[22]\teval-error:0.239518\ttrain-error:0.247663\n",
      "[23]\teval-error:0.239277\ttrain-error:0.247343\n",
      "[24]\teval-error:0.239178\ttrain-error:0.247249\n",
      "[25]\teval-error:0.239165\ttrain-error:0.247165\n",
      "[26]\teval-error:0.239116\ttrain-error:0.247094\n",
      "[27]\teval-error:0.239264\ttrain-error:0.247008\n",
      "[28]\teval-error:0.239345\ttrain-error:0.246866\n",
      "[29]\teval-error:0.239446\ttrain-error:0.246827\n",
      "[30]\teval-error:0.239425\ttrain-error:0.246779\n",
      "[31]\teval-error:0.239321\ttrain-error:0.246725\n",
      "[32]\teval-error:0.239288\ttrain-error:0.246638\n",
      "[33]\teval-error:0.239203\ttrain-error:0.246662\n",
      "[34]\teval-error:0.23918\ttrain-error:0.246595\n",
      "[35]\teval-error:0.239087\ttrain-error:0.246551\n",
      "[36]\teval-error:0.239017\ttrain-error:0.246484\n",
      "[37]\teval-error:0.239011\ttrain-error:0.24642\n",
      "[38]\teval-error:0.238905\ttrain-error:0.246371\n",
      "[39]\teval-error:0.238928\ttrain-error:0.246361\n",
      "[40]\teval-error:0.238917\ttrain-error:0.246326\n",
      "[41]\teval-error:0.238814\ttrain-error:0.246285\n",
      "[42]\teval-error:0.23875\ttrain-error:0.246214\n",
      "[43]\teval-error:0.238738\ttrain-error:0.246214\n",
      "[44]\teval-error:0.238602\ttrain-error:0.246128\n",
      "[45]\teval-error:0.238621\ttrain-error:0.246106\n",
      "[46]\teval-error:0.2387\ttrain-error:0.246044\n",
      "[47]\teval-error:0.238662\ttrain-error:0.245981\n",
      "[48]\teval-error:0.23874\ttrain-error:0.245998\n",
      "[49]\teval-error:0.238695\ttrain-error:0.245932\n",
      "[50]\teval-error:0.238691\ttrain-error:0.245896\n",
      "[51]\teval-error:0.238613\ttrain-error:0.245762\n"
     ]
    }
   ],
   "source": [
    "# Start timer \n",
    "start_time = time.time()\n",
    "\n",
    "# Train model\n",
    "bst = xgb.train(params = param, \n",
    "                dtrain = dtrain, \n",
    "                num_boost_round = num_round, \n",
    "                evals = evallist,\n",
    "                early_stopping_rounds = early_stopping_rounds)\n",
    "\n",
    "# End timer\n",
    "end_time = time.time()\n",
    "print(\"Time for training: {:.2f} seconds\".format(end_time - start_time))\n",
    "print(\"Best iteration         {}\".format(bst.best_iteration))\n",
    "\n",
    "try:\n",
    "    print(\"Best train error: {}\".format(bst.best_score))\n",
    "    print(\"Best ntree limit:      {}\".format(bst.best_ntree_limit))\n",
    "except:\n",
    "    print(\"Early stopping did not occur\")"
   ]
  },
  {
   "cell_type": "code",
   "execution_count": null,
   "metadata": {},
   "outputs": [],
   "source": [
    "# Save model\n",
    "bst.save_model(\"results/xgb_gbtree.model\")"
   ]
  },
  {
   "cell_type": "markdown",
   "metadata": {},
   "source": [
    "## Validation Set Performance"
   ]
  },
  {
   "cell_type": "code",
   "execution_count": null,
   "metadata": {},
   "outputs": [],
   "source": [
    "# Predict using best validation set performer\n",
    "prob_valid = bst.predict(dvalid, ntree_limit = bst.best_ntree_limit)\n",
    "pred_valid = [0 if x < 0.5 else 1 for x in prob_valid]"
   ]
  },
  {
   "cell_type": "code",
   "execution_count": null,
   "metadata": {},
   "outputs": [],
   "source": [
    "# Prediction metrics\n",
    "print(\"Accuracy:  {:.3f}%\".format(accuracy_score(y_valid, pred_valid)))\n",
    "print(\"Precision: {:.3f}%\".format(precision_score(y_valid, pred_valid)))\n",
    "print(\"Recall:    {:.3f}%\".format(recall_score(y_valid, pred_valid)))\n",
    "print(\"F1:        {:.3f}%\".format(f1_score(y_valid, pred_valid)))"
   ]
  },
  {
   "cell_type": "code",
   "execution_count": null,
   "metadata": {},
   "outputs": [],
   "source": [
    "print(\"Validation Confusion Matrix\")\n",
    "print(confusion_matrix(y_valid, pred_valid))"
   ]
  },
  {
   "cell_type": "code",
   "execution_count": null,
   "metadata": {},
   "outputs": [],
   "source": [
    "# Validation set AUROC curve\n",
    "fpr, tpr, threshold = roc_curve(y_valid, prob_valid)\n",
    "roc_auc = auc(fpr, tpr)\n",
    "\n",
    "fig = plt.figure(figsize=(18, 8))\n",
    "plt.plot(fpr, tpr, 'b', label = 'AUC = %0.2f' % roc_auc)\n",
    "plt.plot([0,1], [0, 1], 'r--')\n",
    "plt.legend(loc = 'lower right')\n",
    "plt.xlim(0,1)\n",
    "plt.xlabel(\"False Positive Rate (FPR)\")\n",
    "plt.ylabel(\"True Positive Rate (TPR)\")\n",
    "plt.title(\"Validation Set Receiver Operator Characteristic\")"
   ]
  },
  {
   "cell_type": "markdown",
   "metadata": {},
   "source": [
    "# Test Set Performance"
   ]
  },
  {
   "cell_type": "code",
   "execution_count": null,
   "metadata": {},
   "outputs": [],
   "source": [
    "# Predict using best validation set performer\n",
    "prob_test = bst.predict(dtest, ntree_limit = bst.best_ntree_limit)\n",
    "pred_test = [0 if x < 0.5 else 1 for x in prob_test]"
   ]
  },
  {
   "cell_type": "code",
   "execution_count": null,
   "metadata": {},
   "outputs": [],
   "source": [
    "# Prediction metrics\n",
    "print(\"Accuracy:  {:.3f}%\".format(accuracy_score(y_test, pred_test)))\n",
    "print(\"Precision: {:.3f}%\".format(precision_score(y_test, pred_test)))\n",
    "print(\"Recall:    {:.3f}%\".format(recall_score(y_test, pred_test)))\n",
    "print(\"F1:        {:.3f}%\".format(f1_score(y_test, pred_test)))"
   ]
  },
  {
   "cell_type": "code",
   "execution_count": null,
   "metadata": {},
   "outputs": [],
   "source": [
    "print(\"Test Confusion Matrix\")\n",
    "print(confusion_matrix(y_valid, pred_valid))"
   ]
  },
  {
   "cell_type": "code",
   "execution_count": null,
   "metadata": {},
   "outputs": [],
   "source": [
    "# Validation set AUROC curve\n",
    "fpr, tpr, threshold = roc_curve(y_test, prob_test)\n",
    "roc_auc = auc(fpr, tpr)\n",
    "\n",
    "fig = plt.figure(figsize=(18, 8))\n",
    "plt.plot(fpr, tpr, 'b', label = 'AUC = %0.2f' % roc_auc)\n",
    "plt.plot([0,1], [0, 1], 'r--')\n",
    "plt.legend(loc = 'lower right')\n",
    "plt.xlim(0,1)\n",
    "plt.xlabel(\"False Positive Rate (FPR)\")\n",
    "plt.ylabel(\"True Positive Rate (TPR)\")\n",
    "plt.title(\"Test Set Receiver Operator Characteristic\")"
   ]
  }
 ],
 "metadata": {
  "kernelspec": {
   "display_name": "Python 3",
   "language": "python",
   "name": "python3"
  },
  "language_info": {
   "codemirror_mode": {
    "name": "ipython",
    "version": 3
   },
   "file_extension": ".py",
   "mimetype": "text/x-python",
   "name": "python",
   "nbconvert_exporter": "python",
   "pygments_lexer": "ipython3",
   "version": "3.7.4"
  }
 },
 "nbformat": 4,
 "nbformat_minor": 2
}
