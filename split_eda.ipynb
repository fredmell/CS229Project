{
 "cells": [
  {
   "cell_type": "markdown",
   "metadata": {},
   "source": [
    "# Train-Valid-Test Split EDA"
   ]
  },
  {
   "cell_type": "code",
   "execution_count": 1,
   "metadata": {},
   "outputs": [],
   "source": [
    "# Import libraries\n",
    "import pandas as pd\n",
    "import time"
   ]
  },
  {
   "cell_type": "code",
   "execution_count": 2,
   "metadata": {},
   "outputs": [
    {
     "name": "stdout",
     "output_type": "stream",
     "text": [
      "Time to load full data 10.54 seconds\n"
     ]
    }
   ],
   "source": [
    "# Load pickled data\n",
    "start_time = time.time()\n",
    "df = pd.read_pickle(\"data/yelp_df_final.pkl\")\n",
    "print(\"Time to load full data {:.2f} seconds\".format(time.time() - start_time))"
   ]
  },
  {
   "cell_type": "code",
   "execution_count": 3,
   "metadata": {},
   "outputs": [],
   "source": [
    "# Split data\n",
    "train_df = df[df[\"dataset\"] == \"train\"]\n",
    "valid_df = df[df[\"dataset\"] == \"val\"]\n",
    "test_df  = df[df[\"dataset\"] == \"test\"]"
   ]
  },
  {
   "cell_type": "markdown",
   "metadata": {},
   "source": [
    "## Summary Statistics"
   ]
  },
  {
   "cell_type": "code",
   "execution_count": 4,
   "metadata": {},
   "outputs": [
    {
     "name": "stdout",
     "output_type": "stream",
     "text": [
      "Users in train set: 1259558\n",
      "Users in valid set: 262764\n",
      "Users in test set:  274722\n"
     ]
    }
   ],
   "source": [
    "# Unique users in each set \n",
    "train_users = set(train_df['user_id'])\n",
    "valid_users = set(valid_df['user_id'])\n",
    "test_users = set(test_df['user_id'])\n",
    "\n",
    "print(\"Users in train set: {}\".format(len(train_users)))\n",
    "print(\"Users in valid set: {}\".format(len(valid_users)))\n",
    "print(\"Users in test set:  {}\".format(len(test_users)))"
   ]
  },
  {
   "cell_type": "code",
   "execution_count": 5,
   "metadata": {},
   "outputs": [
    {
     "name": "stdout",
     "output_type": "stream",
     "text": [
      "Businesses in train set: 125159\n",
      "Businesses in valid set: 75605\n",
      "Businesses in test set:  75254\n"
     ]
    }
   ],
   "source": [
    "# Unique businesses in each set\n",
    "train_bis = set(train_df['business_id'])\n",
    "valid_bis = set(valid_df['business_id'])\n",
    "test_bis = set(test_df['business_id'])\n",
    "\n",
    "print(\"Businesses in train set: {}\".format(len(train_bis)))\n",
    "print(\"Businesses in valid set: {}\".format(len(valid_bis)))\n",
    "print(\"Businesses in test set:  {}\".format(len(test_bis)))"
   ]
  },
  {
   "cell_type": "code",
   "execution_count": 6,
   "metadata": {},
   "outputs": [
    {
     "name": "stdout",
     "output_type": "stream",
     "text": [
      "Reviews in train set: 4903362\n",
      "Reviews in valid set: 527276\n",
      "Reviews in test set:  527276\n"
     ]
    }
   ],
   "source": [
    "# Unique reviews in each set\n",
    "print(\"Reviews in train set: {}\".format(train_df.shape[0]))\n",
    "print(\"Reviews in valid set: {}\".format(valid_df.shape[0]))\n",
    "print(\"Reviews in test set:  {}\".format(test_df.shape[0]))"
   ]
  },
  {
   "cell_type": "markdown",
   "metadata": {},
   "source": [
    "## Percentage of 5 Star Reviews"
   ]
  },
  {
   "cell_type": "code",
   "execution_count": 7,
   "metadata": {},
   "outputs": [
    {
     "name": "stdout",
     "output_type": "stream",
     "text": [
      "Proportion of 5 star reviews in train set: 0.4310001994549862\n",
      "Proportion of 5 star reviews in valid set: 0.5145900818546644\n",
      "Proportion of 5 star reviews in test set:  0.5184685060575486\n"
     ]
    }
   ],
   "source": [
    "# Percentage of 5 star reviews\n",
    "train_p = train_df[\"label\"].sum() / train_df.shape[0]\n",
    "valid_p = valid_df[\"label\"].sum() / valid_df.shape[0]\n",
    "test_p  = test_df[\"label\"].sum() / test_df.shape[0]\n",
    "\n",
    "print(\"Proportion of 5 star reviews in train set: {}\".format(train_p))\n",
    "print(\"Proportion of 5 star reviews in valid set: {}\".format(valid_p))\n",
    "print(\"Proportion of 5 star reviews in test set:  {}\".format(test_p))"
   ]
  }
 ],
 "metadata": {
  "kernelspec": {
   "display_name": "Python 3",
   "language": "python",
   "name": "python3"
  },
  "language_info": {
   "codemirror_mode": {
    "name": "ipython",
    "version": 3
   },
   "file_extension": ".py",
   "mimetype": "text/x-python",
   "name": "python",
   "nbconvert_exporter": "python",
   "pygments_lexer": "ipython3",
   "version": "3.7.4"
  }
 },
 "nbformat": 4,
 "nbformat_minor": 2
}
